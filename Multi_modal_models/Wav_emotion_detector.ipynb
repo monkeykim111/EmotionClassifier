{
  "nbformat": 4,
  "nbformat_minor": 0,
  "metadata": {
    "colab": {
      "name": "Wav_emotion_detector_최종",
      "provenance": [],
      "collapsed_sections": [
        "-kX4n5cBjYlQ"
      ],
      "machine_shape": "hm"
    },
    "kernelspec": {
      "name": "python3",
      "display_name": "Python 3"
    },
    "language_info": {
      "name": "python"
    },
    "accelerator": "GPU"
  },
  "cells": [
    {
      "cell_type": "markdown",
      "source": [
        "#구글 드라이브 mount\n"
      ],
      "metadata": {
        "id": "t5Cjf5soHSez"
      }
    },
    {
      "cell_type": "code",
      "execution_count": 1,
      "metadata": {
        "colab": {
          "base_uri": "https://localhost:8080/"
        },
        "id": "JloGaz1sxOvP",
        "outputId": "a1ec8dbb-ece0-4a6e-900b-c9e977b199d4"
      },
      "outputs": [
        {
          "output_type": "stream",
          "name": "stdout",
          "text": [
            "Mounted at /content/gdrive\n"
          ]
        }
      ],
      "source": [
        "from google.colab import drive\n",
        "drive.mount('/content/gdrive')"
      ]
    },
    {
      "cell_type": "code",
      "source": [
        "%cd /content/gdrive/MyDrive/Human_understand/KEMDy19"
      ],
      "metadata": {
        "colab": {
          "base_uri": "https://localhost:8080/"
        },
        "id": "Um0NVvHqvM5A",
        "outputId": "41735d78-7b87-442d-b263-de69ee6a7960"
      },
      "execution_count": 2,
      "outputs": [
        {
          "output_type": "stream",
          "name": "stdout",
          "text": [
            "/content/gdrive/MyDrive/Human_understand/KEMDy19\n"
          ]
        }
      ]
    },
    {
      "cell_type": "markdown",
      "source": [
        "# 필요한 라이브러리 import\n"
      ],
      "metadata": {
        "id": "ag5ocyuAHdmR"
      }
    },
    {
      "cell_type": "code",
      "source": [
        "import os\n",
        "import glob\n",
        "import pickle\n",
        "import librosa\n",
        "import pandas as pd\n",
        "import numpy as np\n",
        "import sklearn\n",
        "\n",
        "import warnings\n",
        "warnings.filterwarnings(action='ignore')\n",
        "import numpy as np\n",
        "import matplotlib.pyplot as plt\n",
        "import tensorflow as tf\n",
        "import tensorflow_datasets as tfds\n",
        "\n",
        "from IPython.display import Image\n",
        "from imblearn.over_sampling import SMOTE\n",
        "\n",
        "from sklearn.model_selection import train_test_split\n",
        "from sklearn.preprocessing import MinMaxScaler\n",
        "\n",
        "from tensorflow.python.keras import utils\n",
        "from tensorflow.keras.preprocessing.text import Tokenizer\n",
        "from tensorflow.keras.preprocessing.sequence import pad_sequences \n",
        "from tensorflow.keras.models import Sequential, load_model\n",
        "from tensorflow.keras.layers import Dense, Activation, Conv2D, MaxPooling2D, Flatten, Dropout, BatchNormalization, LSTM\n",
        "from tensorflow.keras.utils import to_categorical\n",
        "from tensorflow.keras.datasets import mnist\n",
        "from tensorflow.keras.callbacks import EarlyStopping, ModelCheckpoint\n",
        "from tensorflow.keras.optimizers import Adam, SGD"
      ],
      "metadata": {
        "id": "-k7bUro6xifa"
      },
      "execution_count": 3,
      "outputs": []
    },
    {
      "cell_type": "markdown",
      "source": [
        "#데이터셋 불러오기"
      ],
      "metadata": {
        "id": "0EYWD-xvfHPi"
      }
    },
    {
      "cell_type": "markdown",
      "source": [
        "X_data 불러오기"
      ],
      "metadata": {
        "id": "8CA7IzRjfK6f"
      }
    },
    {
      "cell_type": "code",
      "source": [
        "X_data_wav = '/content/gdrive/MyDrive/Human_understand/KEMDy19/needed_mfcc.npy'"
      ],
      "metadata": {
        "id": "ZOsZ1lIWfmWe"
      },
      "execution_count": 4,
      "outputs": []
    },
    {
      "cell_type": "markdown",
      "source": [
        "Y_data 불러오기"
      ],
      "metadata": {
        "id": "uOLIiSi9fjAW"
      }
    },
    {
      "cell_type": "code",
      "source": [
        "Y_data_wav = '/content/gdrive/MyDrive/Human_understand/KEMDy19/needed_mfcc_y.pkl'"
      ],
      "metadata": {
        "id": "8HaHlwOcfioz"
      },
      "execution_count": 5,
      "outputs": []
    },
    {
      "cell_type": "markdown",
      "source": [
        "X_data,Y_data를 로드"
      ],
      "metadata": {
        "id": "6bIhiDQpgP1Q"
      }
    },
    {
      "cell_type": "code",
      "source": [
        "#MFCC 파일 (X)\n",
        "X_data_wav = np.load(X_data_wav)\n",
        "\n",
        "#Label 파일 (Y)\n",
        "with open(Y_data_wav,\"rb\") as fr:\n",
        "    Y_data_wav_list = pickle.load(fr)"
      ],
      "metadata": {
        "id": "RhR3GxVHhDwG"
      },
      "execution_count": 6,
      "outputs": []
    },
    {
      "cell_type": "code",
      "source": [
        "print(X_data_wav.shape)"
      ],
      "metadata": {
        "colab": {
          "base_uri": "https://localhost:8080/"
        },
        "id": "LdgfGLEchItt",
        "outputId": "fb0b8154-89bf-4891-beb8-bb6166077d4b"
      },
      "execution_count": 7,
      "outputs": [
        {
          "output_type": "stream",
          "name": "stdout",
          "text": [
            "(9145, 100, 465)\n"
          ]
        }
      ]
    },
    {
      "cell_type": "markdown",
      "source": [
        "#Y_data를 one hot encoding 처리"
      ],
      "metadata": {
        "id": "yeEKHA5Jh7Oz"
      }
    },
    {
      "cell_type": "code",
      "source": [
        "#리스트 형식으로 Label을 불러오기 때문에 리스트를 데이터 프레임으로 변환\n",
        "Y_data_wav=pd.DataFrame(Y_data_wav_list, columns=[\"Label\"])\n",
        "\n",
        "#one hot encoding\n",
        "Y_data_wav = pd.get_dummies(Y_data_wav, columns = ['Label'])\n",
        "Y_data_wav # one hot encoding 확인"
      ],
      "metadata": {
        "id": "TWXajUQaIl8l",
        "colab": {
          "base_uri": "https://localhost:8080/",
          "height": 424
        },
        "outputId": "c0c5cdb0-5d97-4fc9-ebca-a9647a8cb58d"
      },
      "execution_count": 8,
      "outputs": [
        {
          "output_type": "execute_result",
          "data": {
            "text/plain": [
              "      Label_angry  Label_disgust  Label_fear  Label_happy  Label_neutral  \\\n",
              "0               0              0           0            0              1   \n",
              "1               0              0           0            0              1   \n",
              "2               0              0           0            0              1   \n",
              "3               0              0           0            0              1   \n",
              "4               0              1           0            0              0   \n",
              "...           ...            ...         ...          ...            ...   \n",
              "9140            0              0           0            0              0   \n",
              "9141            0              0           0            0              0   \n",
              "9142            0              0           0            0              0   \n",
              "9143            0              0           1            0              0   \n",
              "9144            0              0           0            0              0   \n",
              "\n",
              "      Label_sad  Label_surprise  \n",
              "0             0               0  \n",
              "1             0               0  \n",
              "2             0               0  \n",
              "3             0               0  \n",
              "4             0               0  \n",
              "...         ...             ...  \n",
              "9140          0               1  \n",
              "9141          0               1  \n",
              "9142          0               1  \n",
              "9143          0               0  \n",
              "9144          0               1  \n",
              "\n",
              "[9145 rows x 7 columns]"
            ],
            "text/html": [
              "\n",
              "  <div id=\"df-44ae877d-7c5f-49c6-8af6-d895be0326e8\">\n",
              "    <div class=\"colab-df-container\">\n",
              "      <div>\n",
              "<style scoped>\n",
              "    .dataframe tbody tr th:only-of-type {\n",
              "        vertical-align: middle;\n",
              "    }\n",
              "\n",
              "    .dataframe tbody tr th {\n",
              "        vertical-align: top;\n",
              "    }\n",
              "\n",
              "    .dataframe thead th {\n",
              "        text-align: right;\n",
              "    }\n",
              "</style>\n",
              "<table border=\"1\" class=\"dataframe\">\n",
              "  <thead>\n",
              "    <tr style=\"text-align: right;\">\n",
              "      <th></th>\n",
              "      <th>Label_angry</th>\n",
              "      <th>Label_disgust</th>\n",
              "      <th>Label_fear</th>\n",
              "      <th>Label_happy</th>\n",
              "      <th>Label_neutral</th>\n",
              "      <th>Label_sad</th>\n",
              "      <th>Label_surprise</th>\n",
              "    </tr>\n",
              "  </thead>\n",
              "  <tbody>\n",
              "    <tr>\n",
              "      <th>0</th>\n",
              "      <td>0</td>\n",
              "      <td>0</td>\n",
              "      <td>0</td>\n",
              "      <td>0</td>\n",
              "      <td>1</td>\n",
              "      <td>0</td>\n",
              "      <td>0</td>\n",
              "    </tr>\n",
              "    <tr>\n",
              "      <th>1</th>\n",
              "      <td>0</td>\n",
              "      <td>0</td>\n",
              "      <td>0</td>\n",
              "      <td>0</td>\n",
              "      <td>1</td>\n",
              "      <td>0</td>\n",
              "      <td>0</td>\n",
              "    </tr>\n",
              "    <tr>\n",
              "      <th>2</th>\n",
              "      <td>0</td>\n",
              "      <td>0</td>\n",
              "      <td>0</td>\n",
              "      <td>0</td>\n",
              "      <td>1</td>\n",
              "      <td>0</td>\n",
              "      <td>0</td>\n",
              "    </tr>\n",
              "    <tr>\n",
              "      <th>3</th>\n",
              "      <td>0</td>\n",
              "      <td>0</td>\n",
              "      <td>0</td>\n",
              "      <td>0</td>\n",
              "      <td>1</td>\n",
              "      <td>0</td>\n",
              "      <td>0</td>\n",
              "    </tr>\n",
              "    <tr>\n",
              "      <th>4</th>\n",
              "      <td>0</td>\n",
              "      <td>1</td>\n",
              "      <td>0</td>\n",
              "      <td>0</td>\n",
              "      <td>0</td>\n",
              "      <td>0</td>\n",
              "      <td>0</td>\n",
              "    </tr>\n",
              "    <tr>\n",
              "      <th>...</th>\n",
              "      <td>...</td>\n",
              "      <td>...</td>\n",
              "      <td>...</td>\n",
              "      <td>...</td>\n",
              "      <td>...</td>\n",
              "      <td>...</td>\n",
              "      <td>...</td>\n",
              "    </tr>\n",
              "    <tr>\n",
              "      <th>9140</th>\n",
              "      <td>0</td>\n",
              "      <td>0</td>\n",
              "      <td>0</td>\n",
              "      <td>0</td>\n",
              "      <td>0</td>\n",
              "      <td>0</td>\n",
              "      <td>1</td>\n",
              "    </tr>\n",
              "    <tr>\n",
              "      <th>9141</th>\n",
              "      <td>0</td>\n",
              "      <td>0</td>\n",
              "      <td>0</td>\n",
              "      <td>0</td>\n",
              "      <td>0</td>\n",
              "      <td>0</td>\n",
              "      <td>1</td>\n",
              "    </tr>\n",
              "    <tr>\n",
              "      <th>9142</th>\n",
              "      <td>0</td>\n",
              "      <td>0</td>\n",
              "      <td>0</td>\n",
              "      <td>0</td>\n",
              "      <td>0</td>\n",
              "      <td>0</td>\n",
              "      <td>1</td>\n",
              "    </tr>\n",
              "    <tr>\n",
              "      <th>9143</th>\n",
              "      <td>0</td>\n",
              "      <td>0</td>\n",
              "      <td>1</td>\n",
              "      <td>0</td>\n",
              "      <td>0</td>\n",
              "      <td>0</td>\n",
              "      <td>0</td>\n",
              "    </tr>\n",
              "    <tr>\n",
              "      <th>9144</th>\n",
              "      <td>0</td>\n",
              "      <td>0</td>\n",
              "      <td>0</td>\n",
              "      <td>0</td>\n",
              "      <td>0</td>\n",
              "      <td>0</td>\n",
              "      <td>1</td>\n",
              "    </tr>\n",
              "  </tbody>\n",
              "</table>\n",
              "<p>9145 rows × 7 columns</p>\n",
              "</div>\n",
              "      <button class=\"colab-df-convert\" onclick=\"convertToInteractive('df-44ae877d-7c5f-49c6-8af6-d895be0326e8')\"\n",
              "              title=\"Convert this dataframe to an interactive table.\"\n",
              "              style=\"display:none;\">\n",
              "        \n",
              "  <svg xmlns=\"http://www.w3.org/2000/svg\" height=\"24px\"viewBox=\"0 0 24 24\"\n",
              "       width=\"24px\">\n",
              "    <path d=\"M0 0h24v24H0V0z\" fill=\"none\"/>\n",
              "    <path d=\"M18.56 5.44l.94 2.06.94-2.06 2.06-.94-2.06-.94-.94-2.06-.94 2.06-2.06.94zm-11 1L8.5 8.5l.94-2.06 2.06-.94-2.06-.94L8.5 2.5l-.94 2.06-2.06.94zm10 10l.94 2.06.94-2.06 2.06-.94-2.06-.94-.94-2.06-.94 2.06-2.06.94z\"/><path d=\"M17.41 7.96l-1.37-1.37c-.4-.4-.92-.59-1.43-.59-.52 0-1.04.2-1.43.59L10.3 9.45l-7.72 7.72c-.78.78-.78 2.05 0 2.83L4 21.41c.39.39.9.59 1.41.59.51 0 1.02-.2 1.41-.59l7.78-7.78 2.81-2.81c.8-.78.8-2.07 0-2.86zM5.41 20L4 18.59l7.72-7.72 1.47 1.35L5.41 20z\"/>\n",
              "  </svg>\n",
              "      </button>\n",
              "      \n",
              "  <style>\n",
              "    .colab-df-container {\n",
              "      display:flex;\n",
              "      flex-wrap:wrap;\n",
              "      gap: 12px;\n",
              "    }\n",
              "\n",
              "    .colab-df-convert {\n",
              "      background-color: #E8F0FE;\n",
              "      border: none;\n",
              "      border-radius: 50%;\n",
              "      cursor: pointer;\n",
              "      display: none;\n",
              "      fill: #1967D2;\n",
              "      height: 32px;\n",
              "      padding: 0 0 0 0;\n",
              "      width: 32px;\n",
              "    }\n",
              "\n",
              "    .colab-df-convert:hover {\n",
              "      background-color: #E2EBFA;\n",
              "      box-shadow: 0px 1px 2px rgba(60, 64, 67, 0.3), 0px 1px 3px 1px rgba(60, 64, 67, 0.15);\n",
              "      fill: #174EA6;\n",
              "    }\n",
              "\n",
              "    [theme=dark] .colab-df-convert {\n",
              "      background-color: #3B4455;\n",
              "      fill: #D2E3FC;\n",
              "    }\n",
              "\n",
              "    [theme=dark] .colab-df-convert:hover {\n",
              "      background-color: #434B5C;\n",
              "      box-shadow: 0px 1px 3px 1px rgba(0, 0, 0, 0.15);\n",
              "      filter: drop-shadow(0px 1px 2px rgba(0, 0, 0, 0.3));\n",
              "      fill: #FFFFFF;\n",
              "    }\n",
              "  </style>\n",
              "\n",
              "      <script>\n",
              "        const buttonEl =\n",
              "          document.querySelector('#df-44ae877d-7c5f-49c6-8af6-d895be0326e8 button.colab-df-convert');\n",
              "        buttonEl.style.display =\n",
              "          google.colab.kernel.accessAllowed ? 'block' : 'none';\n",
              "\n",
              "        async function convertToInteractive(key) {\n",
              "          const element = document.querySelector('#df-44ae877d-7c5f-49c6-8af6-d895be0326e8');\n",
              "          const dataTable =\n",
              "            await google.colab.kernel.invokeFunction('convertToInteractive',\n",
              "                                                     [key], {});\n",
              "          if (!dataTable) return;\n",
              "\n",
              "          const docLinkHtml = 'Like what you see? Visit the ' +\n",
              "            '<a target=\"_blank\" href=https://colab.research.google.com/notebooks/data_table.ipynb>data table notebook</a>'\n",
              "            + ' to learn more about interactive tables.';\n",
              "          element.innerHTML = '';\n",
              "          dataTable['output_type'] = 'display_data';\n",
              "          await google.colab.output.renderOutput(dataTable, element);\n",
              "          const docLink = document.createElement('div');\n",
              "          docLink.innerHTML = docLinkHtml;\n",
              "          element.appendChild(docLink);\n",
              "        }\n",
              "      </script>\n",
              "    </div>\n",
              "  </div>\n",
              "  "
            ]
          },
          "metadata": {},
          "execution_count": 8
        }
      ]
    },
    {
      "cell_type": "markdown",
      "source": [
        "# SMOTE 처리"
      ],
      "metadata": {
        "id": "-yrG7e6u9kx5"
      }
    },
    {
      "cell_type": "code",
      "source": [
        "# 모델설정\n",
        "sm = SMOTE('minority')\n",
        "\n",
        "# train데이터를 넣어 복제함\n",
        "X_data_wav, Y_data_wav = sm.fit_resample(np.array(X_data_wav).reshape(9145, -1), np.array(Y_data_wav))\n",
        "X_data_wav = X_data_wav.reshape(13109, 100, 465)\n",
        "\n",
        "print('train_X: {}'.format(X_data_wav.shape))\n",
        "print('train_y: {} \\n'.format(Y_data_wav.shape))"
      ],
      "metadata": {
        "colab": {
          "base_uri": "https://localhost:8080/"
        },
        "id": "pABEpMV19kpx",
        "outputId": "dc9140bc-7a24-48d4-9b3f-108edf0c7b9e"
      },
      "execution_count": 9,
      "outputs": [
        {
          "output_type": "stream",
          "name": "stdout",
          "text": [
            "train_X: (13109, 100, 465)\n",
            "train_y: (13109, 7) \n",
            "\n"
          ]
        }
      ]
    },
    {
      "cell_type": "markdown",
      "source": [
        "#X_date와 Y_data를 각각 train/test 데이터로 분리"
      ],
      "metadata": {
        "id": "QOODzjULjAG5"
      }
    },
    {
      "cell_type": "code",
      "source": [
        "X_train_wav, X_test_wav=train_test_split(X_data_wav, test_size=0.2, shuffle=True, random_state=327)\n",
        "Y_train_wav, Y_test_wav=train_test_split(Y_data_wav, test_size=0.2, shuffle=True, random_state=327)\n",
        "#데이터량 확인\n",
        "print(len(X_train_wav), len(Y_train_wav))\n",
        "print(len(X_test_wav), len(Y_test_wav))"
      ],
      "metadata": {
        "id": "PDEHvVx8jRPI",
        "colab": {
          "base_uri": "https://localhost:8080/"
        },
        "outputId": "3781d52e-1b5d-4da6-8dab-146808750a72"
      },
      "execution_count": 10,
      "outputs": [
        {
          "output_type": "stream",
          "name": "stdout",
          "text": [
            "10487 10487\n",
            "2622 2622\n"
          ]
        }
      ]
    },
    {
      "cell_type": "markdown",
      "source": [
        "#모델 구성"
      ],
      "metadata": {
        "id": "s-fDQnbnjS08"
      }
    },
    {
      "cell_type": "code",
      "source": [
        "model_wav = Sequential([\n",
        "    Conv2D(32, (2, 2), strides= 2, padding='same', activation='relu', input_shape=(100, 465, 1)),\n",
        "    MaxPooling2D((2, 2), strides=2),\n",
        "    BatchNormalization(),\n",
        "    Dropout(0.3),\n",
        "\n",
        "    Conv2D(64, (2, 2), padding='same', activation='relu'),\n",
        "    MaxPooling2D((2, 2)),\n",
        "    BatchNormalization(),\n",
        "    Dropout(0.3),\n",
        "\n",
        "    Conv2D(128, (2, 2), padding='same', activation='relu'),\n",
        "    MaxPooling2D((2, 2)),\n",
        "    BatchNormalization(),\n",
        "    Dropout(0.3),\n",
        "\n",
        "    Flatten(),\n",
        "    Dense(64, activation='relu'),\n",
        "    BatchNormalization(),\n",
        "    Dropout(0.3),\n",
        "    Dense(32, activation='relu'),\n",
        "    Dropout(0.3),\n",
        "    BatchNormalization(),\n",
        "    Dense(7, activation='softmax')\n",
        "])\n",
        "\n",
        "model_wav.summary()"
      ],
      "metadata": {
        "colab": {
          "base_uri": "https://localhost:8080/"
        },
        "id": "IK7HnP8X51Qy",
        "outputId": "bae8fe08-f20b-4932-e59c-c5072c86531c"
      },
      "execution_count": 11,
      "outputs": [
        {
          "output_type": "stream",
          "name": "stdout",
          "text": [
            "Model: \"sequential\"\n",
            "_________________________________________________________________\n",
            " Layer (type)                Output Shape              Param #   \n",
            "=================================================================\n",
            " conv2d (Conv2D)             (None, 50, 233, 32)       160       \n",
            "                                                                 \n",
            " max_pooling2d (MaxPooling2D  (None, 25, 116, 32)      0         \n",
            " )                                                               \n",
            "                                                                 \n",
            " batch_normalization (BatchN  (None, 25, 116, 32)      128       \n",
            " ormalization)                                                   \n",
            "                                                                 \n",
            " dropout (Dropout)           (None, 25, 116, 32)       0         \n",
            "                                                                 \n",
            " conv2d_1 (Conv2D)           (None, 25, 116, 64)       8256      \n",
            "                                                                 \n",
            " max_pooling2d_1 (MaxPooling  (None, 12, 58, 64)       0         \n",
            " 2D)                                                             \n",
            "                                                                 \n",
            " batch_normalization_1 (Batc  (None, 12, 58, 64)       256       \n",
            " hNormalization)                                                 \n",
            "                                                                 \n",
            " dropout_1 (Dropout)         (None, 12, 58, 64)        0         \n",
            "                                                                 \n",
            " conv2d_2 (Conv2D)           (None, 12, 58, 128)       32896     \n",
            "                                                                 \n",
            " max_pooling2d_2 (MaxPooling  (None, 6, 29, 128)       0         \n",
            " 2D)                                                             \n",
            "                                                                 \n",
            " batch_normalization_2 (Batc  (None, 6, 29, 128)       512       \n",
            " hNormalization)                                                 \n",
            "                                                                 \n",
            " dropout_2 (Dropout)         (None, 6, 29, 128)        0         \n",
            "                                                                 \n",
            " flatten (Flatten)           (None, 22272)             0         \n",
            "                                                                 \n",
            " dense (Dense)               (None, 64)                1425472   \n",
            "                                                                 \n",
            " batch_normalization_3 (Batc  (None, 64)               256       \n",
            " hNormalization)                                                 \n",
            "                                                                 \n",
            " dropout_3 (Dropout)         (None, 64)                0         \n",
            "                                                                 \n",
            " dense_1 (Dense)             (None, 32)                2080      \n",
            "                                                                 \n",
            " dropout_4 (Dropout)         (None, 32)                0         \n",
            "                                                                 \n",
            " batch_normalization_4 (Batc  (None, 32)               128       \n",
            " hNormalization)                                                 \n",
            "                                                                 \n",
            " dense_2 (Dense)             (None, 7)                 231       \n",
            "                                                                 \n",
            "=================================================================\n",
            "Total params: 1,470,375\n",
            "Trainable params: 1,469,735\n",
            "Non-trainable params: 640\n",
            "_________________________________________________________________\n"
          ]
        }
      ]
    },
    {
      "cell_type": "markdown",
      "source": [
        "모델 컴파일"
      ],
      "metadata": {
        "id": "GS5bcsS4QAeI"
      }
    },
    {
      "cell_type": "code",
      "source": [
        "model_wav.compile(optimizer=Adam(lr=0.01, decay = 1e-7), loss='categorical_crossentropy', metrics=['accuracy'])"
      ],
      "metadata": {
        "id": "Qa4tV0ij6S2Y"
      },
      "execution_count": 12,
      "outputs": []
    },
    {
      "cell_type": "markdown",
      "source": [
        "#모델 학습 및 성능평가(check point 저장)"
      ],
      "metadata": {
        "id": "-kX4n5cBjYlQ"
      }
    },
    {
      "cell_type": "code",
      "source": [
        "history = model_wav.fit(X_train_wav, Y_train_wav, batch_size=512, epochs=50, verbose=1, validation_data=(X_test_wav, Y_test_wav))\n",
        "plt.plot(history.history['accuracy'])\n",
        "plt.plot(history.history['loss'])\n",
        "model_wav.save('/content/gdrive/MyDrive/Human_understand/KEMDy19/best_model_wav.h5')"
      ],
      "metadata": {
        "id": "ZSrkbyd66tQi",
        "colab": {
          "base_uri": "https://localhost:8080/",
          "height": 1000
        },
        "outputId": "ff3b1ae2-038c-425b-e820-e0882a9ed2ac"
      },
      "execution_count": 14,
      "outputs": [
        {
          "output_type": "stream",
          "name": "stdout",
          "text": [
            "Epoch 1/50\n",
            "21/21 [==============================] - 19s 352ms/step - loss: 1.5331 - accuracy: 0.4998 - val_loss: 11.1417 - val_accuracy: 0.1465\n",
            "Epoch 2/50\n",
            "21/21 [==============================] - 5s 225ms/step - loss: 1.2780 - accuracy: 0.5804 - val_loss: 1.8242 - val_accuracy: 0.5450\n",
            "Epoch 3/50\n",
            "21/21 [==============================] - 5s 227ms/step - loss: 1.2368 - accuracy: 0.5896 - val_loss: 12.8139 - val_accuracy: 0.3200\n",
            "Epoch 4/50\n",
            "21/21 [==============================] - 5s 230ms/step - loss: 1.2137 - accuracy: 0.5944 - val_loss: 12.8322 - val_accuracy: 0.3200\n",
            "Epoch 5/50\n",
            "21/21 [==============================] - 5s 230ms/step - loss: 1.2036 - accuracy: 0.5968 - val_loss: 13.2808 - val_accuracy: 0.3200\n",
            "Epoch 6/50\n",
            "21/21 [==============================] - 5s 229ms/step - loss: 1.1992 - accuracy: 0.5982 - val_loss: 12.1851 - val_accuracy: 0.3200\n",
            "Epoch 7/50\n",
            "21/21 [==============================] - 5s 227ms/step - loss: 1.1922 - accuracy: 0.5987 - val_loss: 13.2212 - val_accuracy: 0.3200\n",
            "Epoch 8/50\n",
            "21/21 [==============================] - 5s 227ms/step - loss: 1.1849 - accuracy: 0.6029 - val_loss: 12.0426 - val_accuracy: 0.3200\n",
            "Epoch 9/50\n",
            "21/21 [==============================] - 5s 228ms/step - loss: 1.1740 - accuracy: 0.6035 - val_loss: 10.8137 - val_accuracy: 0.3200\n",
            "Epoch 10/50\n",
            "21/21 [==============================] - 5s 228ms/step - loss: 1.1699 - accuracy: 0.6067 - val_loss: 12.8425 - val_accuracy: 0.3200\n",
            "Epoch 11/50\n",
            "21/21 [==============================] - 5s 230ms/step - loss: 1.1578 - accuracy: 0.6106 - val_loss: 9.6488 - val_accuracy: 0.3204\n",
            "Epoch 12/50\n",
            "21/21 [==============================] - 5s 229ms/step - loss: 1.1489 - accuracy: 0.6131 - val_loss: 8.5351 - val_accuracy: 0.3207\n",
            "Epoch 13/50\n",
            "21/21 [==============================] - 5s 229ms/step - loss: 1.1406 - accuracy: 0.6134 - val_loss: 8.8649 - val_accuracy: 0.3200\n",
            "Epoch 14/50\n",
            "21/21 [==============================] - 5s 229ms/step - loss: 1.1373 - accuracy: 0.6145 - val_loss: 8.6521 - val_accuracy: 0.3200\n",
            "Epoch 15/50\n",
            "21/21 [==============================] - 5s 229ms/step - loss: 1.1219 - accuracy: 0.6202 - val_loss: 5.8050 - val_accuracy: 0.3265\n",
            "Epoch 16/50\n",
            "21/21 [==============================] - 5s 231ms/step - loss: 1.1172 - accuracy: 0.6193 - val_loss: 3.4246 - val_accuracy: 0.4325\n",
            "Epoch 17/50\n",
            "21/21 [==============================] - 5s 230ms/step - loss: 1.1133 - accuracy: 0.6216 - val_loss: 5.8783 - val_accuracy: 0.3555\n",
            "Epoch 18/50\n",
            "21/21 [==============================] - 5s 231ms/step - loss: 1.0971 - accuracy: 0.6266 - val_loss: 6.5732 - val_accuracy: 0.3341\n",
            "Epoch 19/50\n",
            "21/21 [==============================] - 5s 232ms/step - loss: 1.0885 - accuracy: 0.6300 - val_loss: 5.4192 - val_accuracy: 0.3524\n",
            "Epoch 20/50\n",
            "21/21 [==============================] - 5s 231ms/step - loss: 1.0757 - accuracy: 0.6311 - val_loss: 3.0678 - val_accuracy: 0.4420\n",
            "Epoch 21/50\n",
            "21/21 [==============================] - 5s 234ms/step - loss: 1.0742 - accuracy: 0.6319 - val_loss: 3.5203 - val_accuracy: 0.4466\n",
            "Epoch 22/50\n",
            "21/21 [==============================] - 5s 234ms/step - loss: 1.0628 - accuracy: 0.6355 - val_loss: 4.7772 - val_accuracy: 0.3921\n",
            "Epoch 23/50\n",
            "21/21 [==============================] - 5s 236ms/step - loss: 1.0579 - accuracy: 0.6335 - val_loss: 3.4830 - val_accuracy: 0.4397\n",
            "Epoch 24/50\n",
            "21/21 [==============================] - 5s 235ms/step - loss: 1.0508 - accuracy: 0.6360 - val_loss: 2.5373 - val_accuracy: 0.4626\n",
            "Epoch 25/50\n",
            "21/21 [==============================] - 5s 235ms/step - loss: 1.0337 - accuracy: 0.6377 - val_loss: 1.5993 - val_accuracy: 0.5584\n",
            "Epoch 26/50\n",
            "21/21 [==============================] - 5s 236ms/step - loss: 1.0255 - accuracy: 0.6388 - val_loss: 1.4669 - val_accuracy: 0.5740\n",
            "Epoch 27/50\n",
            "21/21 [==============================] - 5s 236ms/step - loss: 1.0102 - accuracy: 0.6422 - val_loss: 1.2456 - val_accuracy: 0.6095\n",
            "Epoch 28/50\n",
            "21/21 [==============================] - 5s 236ms/step - loss: 0.9942 - accuracy: 0.6491 - val_loss: 1.2069 - val_accuracy: 0.6171\n",
            "Epoch 29/50\n",
            "21/21 [==============================] - 5s 238ms/step - loss: 0.9657 - accuracy: 0.6527 - val_loss: 1.5819 - val_accuracy: 0.5763\n",
            "Epoch 30/50\n",
            "21/21 [==============================] - 5s 238ms/step - loss: 0.9500 - accuracy: 0.6622 - val_loss: 1.4143 - val_accuracy: 0.5767\n",
            "Epoch 31/50\n",
            "21/21 [==============================] - 5s 238ms/step - loss: 0.9357 - accuracy: 0.6682 - val_loss: 1.6911 - val_accuracy: 0.5694\n",
            "Epoch 32/50\n",
            "21/21 [==============================] - 5s 238ms/step - loss: 0.9057 - accuracy: 0.6743 - val_loss: 1.4230 - val_accuracy: 0.5915\n",
            "Epoch 33/50\n",
            "21/21 [==============================] - 5s 239ms/step - loss: 0.8740 - accuracy: 0.6840 - val_loss: 2.1134 - val_accuracy: 0.5427\n",
            "Epoch 34/50\n",
            "21/21 [==============================] - 5s 239ms/step - loss: 0.8571 - accuracy: 0.6872 - val_loss: 1.6733 - val_accuracy: 0.5595\n",
            "Epoch 35/50\n",
            "21/21 [==============================] - 5s 241ms/step - loss: 0.8334 - accuracy: 0.6974 - val_loss: 1.4125 - val_accuracy: 0.5843\n",
            "Epoch 36/50\n",
            "21/21 [==============================] - 5s 242ms/step - loss: 0.7914 - accuracy: 0.7097 - val_loss: 1.4940 - val_accuracy: 0.5999\n",
            "Epoch 37/50\n",
            "21/21 [==============================] - 5s 241ms/step - loss: 0.7733 - accuracy: 0.7197 - val_loss: 1.4337 - val_accuracy: 0.6098\n",
            "Epoch 38/50\n",
            "21/21 [==============================] - 5s 240ms/step - loss: 0.7598 - accuracy: 0.7271 - val_loss: 1.7488 - val_accuracy: 0.5622\n",
            "Epoch 39/50\n",
            "21/21 [==============================] - 5s 240ms/step - loss: 0.7057 - accuracy: 0.7470 - val_loss: 1.8417 - val_accuracy: 0.5584\n",
            "Epoch 40/50\n",
            "21/21 [==============================] - 5s 241ms/step - loss: 0.6943 - accuracy: 0.7522 - val_loss: 1.5337 - val_accuracy: 0.5969\n",
            "Epoch 41/50\n",
            "21/21 [==============================] - 5s 239ms/step - loss: 0.6757 - accuracy: 0.7602 - val_loss: 1.6105 - val_accuracy: 0.5690\n",
            "Epoch 42/50\n",
            "21/21 [==============================] - 5s 240ms/step - loss: 0.6443 - accuracy: 0.7690 - val_loss: 1.5817 - val_accuracy: 0.5629\n",
            "Epoch 43/50\n",
            "21/21 [==============================] - 5s 238ms/step - loss: 0.6157 - accuracy: 0.7772 - val_loss: 1.7858 - val_accuracy: 0.5553\n",
            "Epoch 44/50\n",
            "21/21 [==============================] - 5s 239ms/step - loss: 0.5891 - accuracy: 0.7926 - val_loss: 1.6765 - val_accuracy: 0.5591\n",
            "Epoch 45/50\n",
            "21/21 [==============================] - 5s 238ms/step - loss: 0.5833 - accuracy: 0.7929 - val_loss: 1.7322 - val_accuracy: 0.5492\n",
            "Epoch 46/50\n",
            "21/21 [==============================] - 5s 241ms/step - loss: 0.5712 - accuracy: 0.7969 - val_loss: 1.8786 - val_accuracy: 0.5446\n",
            "Epoch 47/50\n",
            "21/21 [==============================] - 5s 239ms/step - loss: 0.5338 - accuracy: 0.8079 - val_loss: 1.7498 - val_accuracy: 0.5461\n",
            "Epoch 48/50\n",
            "21/21 [==============================] - 5s 238ms/step - loss: 0.5088 - accuracy: 0.8209 - val_loss: 1.8010 - val_accuracy: 0.5511\n",
            "Epoch 49/50\n",
            "21/21 [==============================] - 5s 239ms/step - loss: 0.4926 - accuracy: 0.8293 - val_loss: 1.9210 - val_accuracy: 0.5221\n",
            "Epoch 50/50\n",
            "21/21 [==============================] - 5s 241ms/step - loss: 0.4834 - accuracy: 0.8304 - val_loss: 1.9196 - val_accuracy: 0.5187\n"
          ]
        },
        {
          "output_type": "display_data",
          "data": {
            "text/plain": [
              "<Figure size 432x288 with 1 Axes>"
            ],
            "image/png": "[encoded data removed]"
          },
          "metadata": {
            "needs_background": "light"
          }
        }
      ]
    },
    {
      "cell_type": "code",
      "source": [
        "model_wav.save('/content/gdrive/MyDrive/Human_understand/KEMDy19/best_model_wav.h5')"
      ],
      "metadata": {
        "id": "jUDThDlNbawq"
      },
      "execution_count": 15,
      "outputs": []
    },
    {
      "cell_type": "code",
      "source": [
        "loaded_wav_model = load_model('/content/gdrive/MyDrive/Human_understand/KEMDy19/best_model_wav.h5')"
      ],
      "metadata": {
        "id": "yp8pg6NbNwa7"
      },
      "execution_count": 16,
      "outputs": []
    },
    {
      "cell_type": "code",
      "source": [
        "predict_wav_accuracy=loaded_wav_model.evaluate(X_test_wav, Y_test_wav, batch_size=32)\n",
        "print(predict_wav_accuracy[1])"
      ],
      "metadata": {
        "id": "eekJ-FCSNwYb",
        "colab": {
          "base_uri": "https://localhost:8080/"
        },
        "outputId": "4b1cee67-c01b-47f5-83eb-e5c862bbba46"
      },
      "execution_count": 17,
      "outputs": [
        {
          "output_type": "stream",
          "name": "stdout",
          "text": [
            "82/82 [==============================] - 1s 8ms/step - loss: 1.9196 - accuracy: 0.5187\n",
            "0.5186880230903625\n"
          ]
        }
      ]
    },
    {
      "cell_type": "code",
      "source": [
        "predict_wav = loaded_wav_model.predict(X_test_wav)\n",
        "print(predict_wav)"
      ],
      "metadata": {
        "colab": {
          "base_uri": "https://localhost:8080/"
        },
        "id": "KAzSAj920-4-",
        "outputId": "959c16f3-916e-4b5b-b565-278faea11770"
      },
      "execution_count": 18,
      "outputs": [
        {
          "output_type": "stream",
          "name": "stdout",
          "text": [
            "[[2.4725350e-02 2.9107934e-01 3.3042330e-01 ... 2.7230901e-01\n",
            "  5.0487578e-02 1.3788635e-02]\n",
            " [2.0553608e-01 1.5111438e-03 9.9538662e-02 ... 2.0556729e-01\n",
            "  4.1476759e-01 5.1895689e-02]\n",
            " [5.3278480e-02 1.2998043e-04 5.1037408e-03 ... 8.2436973e-01\n",
            "  4.1209520e-03 2.1743789e-02]\n",
            " ...\n",
            " [1.5795192e-01 5.1806233e-04 1.0243000e-02 ... 7.4127978e-01\n",
            "  4.9494293e-02 1.4452747e-02]\n",
            " [1.8239609e-13 1.0000000e+00 1.4320372e-12 ... 3.1535265e-15\n",
            "  1.8762648e-13 7.8951890e-15]\n",
            " [2.8488696e-01 1.5481237e-04 1.1670532e-03 ... 5.7911319e-01\n",
            "  1.8197650e-02 5.0437832e-03]]\n"
          ]
        }
      ]
    }
  ]
}